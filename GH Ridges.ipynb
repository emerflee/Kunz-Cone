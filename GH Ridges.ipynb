{
 "cells": [
  {
   "cell_type": "code",
   "execution_count": 1,
   "id": "359cc0d4",
   "metadata": {},
   "outputs": [
    {
     "name": "stdout",
     "output_type": "stream",
     "text": [
      "true\n",
      "Successfully loaded Singular\n"
     ]
    }
   ],
   "source": [
    "load('/NumericalSemigroup.sage')\n",
    "load('/KunzPoset.sage')"
   ]
  },
  {
   "cell_type": "code",
   "execution_count": 3,
   "id": "799a9a59",
   "metadata": {},
   "outputs": [],
   "source": [
    "#gives a list of facet intersections which should be ridges according to the rule \n",
    "#the rule being that wlog i+j neq k and its not a quadribigeminal face, or it is a tripling face \n",
    "def rulechecker(m):\n",
    "    ruleridges = []\n",
    "    rulenonridges = []\n",
    "    for i in [1..m-1]:\n",
    "        for j in [1..m-1]:\n",
    "            if i+j == m:\n",
    "                continue\n",
    "            if i > j:\n",
    "                continue\n",
    "            for k in [1..m-1]:\n",
    "                for l in [1..m-1]:\n",
    "                    if k+l == m:\n",
    "                        continue\n",
    "                    if k > l:\n",
    "                        continue\n",
    "                    if k < i:\n",
    "                        continue\n",
    "                    if  k==i and l < j:\n",
    "                        continue\n",
    "                    Facet1 = [0]*(m)\n",
    "                    Facet2 = [0]*(m)   \n",
    "                    Facet1[i] = Facet1[i]+1\n",
    "                    Facet1[j] = Facet1[j]+1\n",
    "                    Facet1[(i+j)%m] = Facet1[(i+j)%m]-1\n",
    "                    Facet2[k] = Facet2[k]+1\n",
    "                    Facet2[l] = Facet2[l]+1\n",
    "                    Facet2[(k+l)%m] = Facet2[(k+l)%m]-1\n",
    "                    #thus far we have built the facet equalities for the facets we will be intersecting\n",
    "                    if Facet1 == Facet2: #don't want them to be the same\n",
    "                        continue\n",
    "                    #these next few loops will count the tripling ridges\n",
    "                    if i == j:\n",
    "                        if k == i:\n",
    "                            if l == (2*i)%m:\n",
    "                                ruleridges.append(((i,j),(k,l)))\n",
    "                                continue\n",
    "                        if l == i:\n",
    "                            if k == (2*i)%m:\n",
    "                                ruleridges.append(((i,j),(k,l)))\n",
    "                                continue\n",
    "                    if k == l:\n",
    "                        if i == k:\n",
    "                            if j == (2*k)%m:\n",
    "                                ruleridges.append(((i,j),(k,l))) \n",
    "                                continue\n",
    "                        if j == k:\n",
    "                            if i == (2*k)%m:\n",
    "                                ruleridges.append(((i,j),(k,l)))\n",
    "                                continue\n",
    "                    #these next few loops will remove the non-esker faces\n",
    "                    if i == (k+l)%m:\n",
    "                        rulenonridges.append(((i,j),(k,l)))\n",
    "                        continue\n",
    "                    if j == (k+l)%m:\n",
    "                        rulenonridges.append(((i,j),(k,l)))\n",
    "                        continue\n",
    "                    if k == (i+j)%m:\n",
    "                        rulenonridges.append(((i,j),(k,l)))\n",
    "                        continue\n",
    "                    if l == (i+j)%m:\n",
    "                        rulenonridges.append(((i,j),(k,l)))\n",
    "                        continue\n",
    "                    #this next bit removes quadribigeminal faces\n",
    "                    if m%4 == 0:\n",
    "                        n = m/4\n",
    "                        if j == i+2*n:\n",
    "                            if k == i+n:\n",
    "                                if l == i+3*n:\n",
    "                                    rulenonridges.append(((i,j),(k,l)))\n",
    "                                    continue\n",
    "                    ruleridges.append(((i,j),(k,l)))\n",
    "    return ruleridges"
   ]
  },
  {
   "cell_type": "code",
   "execution_count": 4,
   "id": "c52eadc0",
   "metadata": {},
   "outputs": [],
   "source": [
    "#gives a list of facet intersections that are ridges, taken from the actual polyhedron\n",
    "def conechecker(m):\n",
    "    cone = Polyhedron(ieqs = KunzPoset.KunzInequalities(m))\n",
    "    cone.f_vector()\n",
    "    actualridges = []\n",
    "    actualnonridges = []\n",
    "    for ieq1 in KunzPoset.KunzInequalities(m):\n",
    "        for jeq2 in KunzPoset.KunzInequalities(m):\n",
    "            if ieq1 >= jeq2:\n",
    "                continue\n",
    "            testridge = cone.intersection(Polyhedron(eqns = [ieq1,jeq2]))\n",
    "            #pulling information out of the equations to have the ridges in the same format as above\n",
    "            for i in [1..m-1]:\n",
    "                if ieq1[i] == 2:\n",
    "                    a = i\n",
    "                    b = i\n",
    "                    break\n",
    "                elif ieq1[i] == 1:\n",
    "                    a = i\n",
    "                    for i2 in [i+1..m-1]:\n",
    "                        if ieq1[i2] ==1:\n",
    "                            b = i2\n",
    "                            break\n",
    "                    break\n",
    "            for j in [1..m-1]:\n",
    "                if jeq2[j] == 2:\n",
    "                    c = j\n",
    "                    d = j\n",
    "                    break\n",
    "                elif jeq2[j] == 1:\n",
    "                    c = j\n",
    "                    for j2 in [j+1..m-1]:\n",
    "                        if jeq2[j2] == 1:\n",
    "                            d = j2\n",
    "                            break\n",
    "                    break\n",
    "            #checking dimensions\n",
    "            #ensuring the ((,),(,)) representation has the same ordering as above\n",
    "            if testridge.dim() == m-3:\n",
    "                if a < c:\n",
    "                    actualridges.append(((a,b),(c,d))) \n",
    "                if a == c and b <= d:\n",
    "                    actualridges.append(((a,b),(c,d)))\n",
    "                if a == c and b > d:\n",
    "                    actualridges.append(((c,d),(a,b)))\n",
    "                if a > c:\n",
    "                    actualridges.append(((c,d),(a,b)))\n",
    "            else:\n",
    "                if a < c:\n",
    "                    actualnonridges.append(((a,b),(c,d)))\n",
    "                if a == c and b <= d:\n",
    "                    actualnonridges.append(((a,b),(c,d)))\n",
    "                if a == c and b > d:\n",
    "                    actualnonridges.append(((c,d),(a,b)))           \n",
    "                if a > c:\n",
    "                    actualnonridges.append(((c,d),(a,b)))\n",
    "    return actualridges"
   ]
  },
  {
   "cell_type": "code",
   "execution_count": 5,
   "id": "ca1d3ffe",
   "metadata": {},
   "outputs": [],
   "source": [
    "#compare the two lists above\n",
    "def letscompare(m):\n",
    "    ruleridges = rulechecker(m)\n",
    "    actualridges = conechecker(m)\n",
    "    print('Not counted as a ridge by rule, but is a ridge:')\n",
    "    print([ridge for ridge in actualridges if ridge not in ruleridges])\n",
    "    print('Counted as a ridge by rule, but is not a ridge:')\n",
    "    print([ridge for ridge in ruleridges if ridge not in actualridges])"
   ]
  },
  {
   "cell_type": "code",
   "execution_count": 6,
   "id": "48e9ba5a",
   "metadata": {},
   "outputs": [
    {
     "name": "stdout",
     "output_type": "stream",
     "text": [
      "Not counted as a ridge by rule, but is a ridge:\n",
      "[]\n",
      "Counted as a ridge by rule, but is not a ridge:\n",
      "[]\n"
     ]
    }
   ],
   "source": [
    "#test it! we want both lists to be empty\n",
    "#recall that this rule works for m >= 5\n",
    "letscompare(8)"
   ]
  },
  {
   "cell_type": "code",
   "execution_count": 15,
   "id": "f9a6e609",
   "metadata": {},
   "outputs": [],
   "source": [
    "#count the facets\n",
    "#for m >=3\n",
    "def facetcounter(m):\n",
    "    Cm = Polyhedron(ieqs = KunzPoset.KunzInequalities(m))\n",
    "    nfacets = Cm.f_vector()[m-1]\n",
    "    if m%2 == 0:\n",
    "        cfacets = (m*(m-2))/2\n",
    "    if m%2 != 0:\n",
    "        cfacets = ((m-1)^2)/2\n",
    "    #print(nfacets)\n",
    "    #print(cfacets)\n",
    "    if nfacets == cfacets:\n",
    "        print('nice')\n",
    "        print(cfacets)\n",
    "        print(nfacets)\n",
    "    if nfacets != cfacets:\n",
    "        print('uh oh')\n",
    "        print(cfacets)\n",
    "        print(nfacets)"
   ]
  },
  {
   "cell_type": "code",
   "execution_count": 16,
   "id": "a53cffbf",
   "metadata": {},
   "outputs": [
    {
     "name": "stdout",
     "output_type": "stream",
     "text": [
      "nice\n",
      "8\n",
      "8\n"
     ]
    }
   ],
   "source": [
    "#check it!\n",
    "facetcounter(5)"
   ]
  },
  {
   "cell_type": "code",
   "execution_count": 9,
   "id": "c8f9451e",
   "metadata": {},
   "outputs": [],
   "source": [
    "#count the ridges\n",
    "#again, recall this formula works for m >=5\n",
    "def ridgecounter(m):\n",
    "    Cm = Polyhedron(ieqs = KunzPoset.KunzInequalities(m))\n",
    "    nfacets = Cm.f_vector()[m-1] #actual number of facets\n",
    "    nridges = Cm.f_vector()[m-2] #actual number of ridges\n",
    "    dtrip = 0 #number of tripling faces\n",
    "    dquad = 0 #number of quadribigeminal faces\n",
    "    if m%6 == 0:\n",
    "        dtrip = m-4\n",
    "    if m%6 == 1:\n",
    "        dtrip = m-1\n",
    "    if m%6 == 2:\n",
    "        dtrip = m-2\n",
    "    if m%6 == 3:\n",
    "        dtrip = m-3\n",
    "    if m%6 == 4:\n",
    "        dtrip = m-2\n",
    "    if m%6 == 5:\n",
    "        dtrip = m-1\n",
    "    if m%4 == 0:\n",
    "        dquad = m/4-1\n",
    "    countedridges = binomial(nfacets,2) - nfacets*(m-2) + (m-1)*(m-2)/2 + dtrip - dquad\n",
    "    if countedridges == nridges:\n",
    "        print('nice')\n",
    "    if countedridges != nridges:\n",
    "        print('dang')\n",
    "    print(nridges)\n",
    "    print(countedridges)\n",
    "    "
   ]
  },
  {
   "cell_type": "code",
   "execution_count": 10,
   "id": "502e9df9",
   "metadata": {},
   "outputs": [
    {
     "name": "stdout",
     "output_type": "stream",
     "text": [
      "nice\n",
      "84\n",
      "84\n"
     ]
    }
   ],
   "source": [
    "ridgecounter(7)"
   ]
  },
  {
   "cell_type": "code",
   "execution_count": 17,
   "id": "7dcb9b01",
   "metadata": {},
   "outputs": [],
   "source": [
    "#just in case you really like a quasipolynomial fully written out\n",
    "def ridgecounter2(m):\n",
    "    Cm = Polyhedron(ieqs = KunzPoset.KunzInequalities(m))\n",
    "    nridges = Cm.f_vector()[m-2]\n",
    "    if m%12 == 0:\n",
    "        countedridges = m^4/8-m^3+11*m^2/4 - 9*m/4-2\n",
    "    if m%12 == 1:\n",
    "        countedridges = m^4/8 - m^3 + 3*m^2 - 3*m + 7/8\n",
    "    if m%12 == 2:\n",
    "        countedridges = m^4/8-m^3+11*m^2/4-2*m-1\n",
    "    if m%12 == 3:\n",
    "        countedridges = m^4/8 - m^3 + 3*m^2 - 3*m -9/8\n",
    "    if m%12 == 4:\n",
    "        countedridges = m^4/8-m^3+11*m^2/4 - 9*m/4\n",
    "    if m%12 == 5:\n",
    "        countedridges = m^4/8 - m^3 + 3*m^2 - 3*m + 7/8\n",
    "    if m%12 == 6:\n",
    "        countedridges = m^4/8-m^3+11*m^2/4-2*m-3\n",
    "    if m%12 == 7:\n",
    "        countedridges = m^4/8 - m^3 + 3*m^2 - 3*m + 7/8\n",
    "    if m%12 == 8:\n",
    "        countedridges = m^4/8-m^3+11*m^2/4 - 9*m/4\n",
    "    if m%12 == 9:\n",
    "        countedridges = m^4/8 - m^3 + 3*m^2 - 3*m -9/8\n",
    "    if m%12 == 10:\n",
    "        countedridges = m^4/8-m^3+11*m^2/4-2*m-1\n",
    "    if m%12 == 11:\n",
    "        countedridges = m^4/8 - m^3 + 3*m^2 - 3*m + 7/8\n",
    "    if countedridges == nridges:\n",
    "        print('nice')\n",
    "    if countedridges != nridges:\n",
    "        print('dang')\n",
    "    print(nridges)\n",
    "    print(countedridges)"
   ]
  },
  {
   "cell_type": "code",
   "execution_count": 18,
   "id": "4f16c26d",
   "metadata": {},
   "outputs": [
    {
     "name": "stdout",
     "output_type": "stream",
     "text": [
      "nice\n",
      "84\n",
      "84\n"
     ]
    }
   ],
   "source": [
    "#test it!\n",
    "ridgecounter2(7)"
   ]
  },
  {
   "cell_type": "code",
   "execution_count": null,
   "id": "11c286c1",
   "metadata": {},
   "outputs": [],
   "source": []
  }
 ],
 "metadata": {
  "kernelspec": {
   "display_name": "SageMath 9.5",
   "language": "sage",
   "name": "sagemath"
  },
  "language_info": {
   "codemirror_mode": {
    "name": "ipython",
    "version": 3
   },
   "file_extension": ".py",
   "mimetype": "text/x-python",
   "name": "python",
   "nbconvert_exporter": "python",
   "pygments_lexer": "ipython3",
   "version": "3.9.9"
  }
 },
 "nbformat": 4,
 "nbformat_minor": 5
}
